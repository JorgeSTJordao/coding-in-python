{
 "cells": [
  {
   "cell_type": "markdown",
   "id": "283e4b8e-ddfb-4237-b33a-8eb7629e344b",
   "metadata": {},
   "source": [
    "A Narcissistic Number (or Armstrong Number) is a positive number which is the sum of its own digits, each raised to the power of the number of digits in a given base. In this Kata, we will restrict ourselves to decimal (base 10).\n",
    "\n",
    "For example, take 153 (3 digits), which is narcissistic:\n",
    "\n",
    "``1^3 + 5^3 + 3^3 = 1 + 125 + 27 = 153`` \n",
    "\n",
    "and 1652 (4 digits), which isn't:\n",
    "\n",
    "``1^4 + 6^4 + 5^4 + 2^4 = 1 + 1296 + 625 + 16 = 1938``\n",
    "\n",
    "Your code must return true or false (not 'true' and 'false') depending upon whether the given number is a Narcissistic number in base 10."
   ]
  },
  {
   "cell_type": "code",
   "execution_count": 2,
   "id": "2ef2970e-7ab6-4e14-9cc1-ce29579469ee",
   "metadata": {},
   "outputs": [
    {
     "name": "stdout",
     "output_type": "stream",
     "text": [
      "True\n"
     ]
    }
   ],
   "source": [
    "def narcissistic( value ):\n",
    "    \n",
    "    #variable \"value\" converted to type string\n",
    "    #split string\n",
    "    numbers_splitted = str(value)\n",
    "    #return length which represents the exponential value\n",
    "    length = len(numbers_splitted)\n",
    "    soma = 0\n",
    "    \n",
    "    #sum each exponencial expression\n",
    "    for number in numbers_splitted:\n",
    "        soma += int(number)**length\n",
    "        \n",
    "    #Is it the same number? Yes\n",
    "    if soma == value:\n",
    "        return True\n",
    "    \n",
    "    #Is it not the number? Yes\n",
    "    return False # Code away\n",
    "\n",
    "if __name__ == \"__main__\":\n",
    "    print(narcissistic(153))"
   ]
  },
  {
   "cell_type": "code",
   "execution_count": null,
   "id": "93905174-79fe-41e2-8682-a6de3e0aba97",
   "metadata": {},
   "outputs": [],
   "source": []
  }
 ],
 "metadata": {
  "kernelspec": {
   "display_name": "Python 3 (ipykernel)",
   "language": "python",
   "name": "python3"
  },
  "language_info": {
   "codemirror_mode": {
    "name": "ipython",
    "version": 3
   },
   "file_extension": ".py",
   "mimetype": "text/x-python",
   "name": "python",
   "nbconvert_exporter": "python",
   "pygments_lexer": "ipython3",
   "version": "3.11.4"
  }
 },
 "nbformat": 4,
 "nbformat_minor": 5
}
