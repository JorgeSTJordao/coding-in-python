{
 "cells": [
  {
   "cell_type": "markdown",
   "id": "9b40b5d6-2386-4e2c-bce8-e89fd32df33c",
   "metadata": {},
   "source": [
    "## Declaring a single variable"
   ]
  },
  {
   "cell_type": "code",
   "execution_count": 5,
   "id": "e500839b-065b-4757-a510-9cb4356e973c",
   "metadata": {},
   "outputs": [
    {
     "name": "stdout",
     "output_type": "stream",
     "text": [
      "13\n"
     ]
    }
   ],
   "source": [
    "#X value assigned\n",
    "x = 13\n",
    "\n",
    "print(x)"
   ]
  },
  {
   "cell_type": "markdown",
   "id": "f729cb11-c5ad-49a2-ace2-04a47f38fdc4",
   "metadata": {},
   "source": [
    "## Multiple variables"
   ]
  },
  {
   "cell_type": "code",
   "execution_count": 4,
   "id": "b9276661-8dc0-4f4d-a6e0-8d6119388d22",
   "metadata": {},
   "outputs": [
    {
     "name": "stdout",
     "output_type": "stream",
     "text": [
      "0 5!"
     ]
    }
   ],
   "source": [
    "#Both variables have your own value\n",
    "x = 0\n",
    "y = 5\n",
    "\n",
    "print(x, y, end=\"!\")"
   ]
  },
  {
   "cell_type": "code",
   "execution_count": null,
   "id": "c963ed6e-2ef4-49f4-8adf-f44994ffd698",
   "metadata": {},
   "outputs": [],
   "source": []
  }
 ],
 "metadata": {
  "kernelspec": {
   "display_name": "Python 3 (ipykernel)",
   "language": "python",
   "name": "python3"
  },
  "language_info": {
   "codemirror_mode": {
    "name": "ipython",
    "version": 3
   },
   "file_extension": ".py",
   "mimetype": "text/x-python",
   "name": "python",
   "nbconvert_exporter": "python",
   "pygments_lexer": "ipython3",
   "version": "3.11.4"
  }
 },
 "nbformat": 4,
 "nbformat_minor": 5
}
